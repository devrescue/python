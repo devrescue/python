{
 "cells": [
  {
   "cell_type": "code",
   "execution_count": 1,
   "id": "3feacc32",
   "metadata": {},
   "outputs": [
    {
     "name": "stdout",
     "output_type": "stream",
     "text": [
      "<class 'pandas.core.frame.DataFrame'>\n",
      "RangeIndex: 349 entries, 0 to 348\n",
      "Data columns (total 45 columns):\n",
      " #   Column             Non-Null Count  Dtype\n",
      "---  ------             --------------  -----\n",
      " 0   OVERALL_DIAGNOSIS  349 non-null    int64\n",
      " 1   F1R                349 non-null    int64\n",
      " 2   F1S                349 non-null    int64\n",
      " 3   F2R                349 non-null    int64\n",
      " 4   F2S                349 non-null    int64\n",
      " 5   F3R                349 non-null    int64\n",
      " 6   F3S                349 non-null    int64\n",
      " 7   F4R                349 non-null    int64\n",
      " 8   F4S                349 non-null    int64\n",
      " 9   F5R                349 non-null    int64\n",
      " 10  F5S                349 non-null    int64\n",
      " 11  F6R                349 non-null    int64\n",
      " 12  F6S                349 non-null    int64\n",
      " 13  F7R                349 non-null    int64\n",
      " 14  F7S                349 non-null    int64\n",
      " 15  F8R                349 non-null    int64\n",
      " 16  F8S                349 non-null    int64\n",
      " 17  F9R                349 non-null    int64\n",
      " 18  F9S                349 non-null    int64\n",
      " 19  F10R               349 non-null    int64\n",
      " 20  F10S               349 non-null    int64\n",
      " 21  F11R               349 non-null    int64\n",
      " 22  F11S               349 non-null    int64\n",
      " 23  F12R               349 non-null    int64\n",
      " 24  F12S               349 non-null    int64\n",
      " 25  F13R               349 non-null    int64\n",
      " 26  F13S               349 non-null    int64\n",
      " 27  F14R               349 non-null    int64\n",
      " 28  F14S               349 non-null    int64\n",
      " 29  F15R               349 non-null    int64\n",
      " 30  F15S               349 non-null    int64\n",
      " 31  F16R               349 non-null    int64\n",
      " 32  F16S               349 non-null    int64\n",
      " 33  F17R               349 non-null    int64\n",
      " 34  F17S               349 non-null    int64\n",
      " 35  F18R               349 non-null    int64\n",
      " 36  F18S               349 non-null    int64\n",
      " 37  F19R               349 non-null    int64\n",
      " 38  F19S               349 non-null    int64\n",
      " 39  F20R               349 non-null    int64\n",
      " 40  F20S               349 non-null    int64\n",
      " 41  F21R               349 non-null    int64\n",
      " 42  F21S               349 non-null    int64\n",
      " 43  F22R               349 non-null    int64\n",
      " 44  F22S               349 non-null    int64\n",
      "dtypes: int64(45)\n",
      "memory usage: 122.8 KB\n",
      "None\n",
      "95\n",
      "254\n"
     ]
    },
    {
     "data": {
      "image/png": "[encoded data removed]",
      "text/plain": [
       "<Figure size 432x288 with 1 Axes>"
      ]
     },
     "metadata": {
      "needs_background": "light"
     },
     "output_type": "display_data"
    }
   ],
   "source": [
    "from sklearn.neighbors import KNeighborsClassifier\n",
    "import os\n",
    "import pandas as pd\n",
    "import numpy as np\n",
    "import matplotlib.pyplot as plt\n",
    "\n",
    "spectf = os.path.join(\"datasets\",\"SPECTF.csv\")\n",
    "\n",
    "df = pd.read_csv(spectf)\n",
    "\n",
    "#some information about our dataset\n",
    "print(df.info())\n",
    "\n",
    "#count of classes in the dataset\n",
    "print(len(df[df.OVERALL_DIAGNOSIS == 0])) #normal\n",
    "print(len(df[df.OVERALL_DIAGNOSIS == 1])) #abnormal\n",
    "\n",
    "#histogram of Normal vs Abnormal classes\n",
    "fig = plt.figure()\n",
    "ax = fig.add_axes([0,0,1,1])\n",
    "diagnoses = ['NORMAL', 'ABNORMAL']\n",
    "patients = [len(df[df.OVERALL_DIAGNOSIS == 0]),len(df[df.OVERALL_DIAGNOSIS == 1])]\n",
    "ax.bar(diagnoses,patients)\n",
    "plt.show()\n",
    "\n",
    "#labels y\n",
    "y = df['OVERALL_DIAGNOSIS'].values \n",
    "\n",
    "#training data X\n",
    "X = df.drop('OVERALL_DIAGNOSIS', axis=1).values \n",
    "\n",
    "#our classifier\n",
    "knn = KNeighborsClassifier(n_neighbors=7)\n",
    "\n",
    "knn.fit(X,y)\n",
    "\n",
    "# predict labels for training data X\n",
    "y_pred = knn.predict(X)"
   ]
  },
  {
   "cell_type": "code",
   "execution_count": null,
   "id": "f19b1004",
   "metadata": {},
   "outputs": [],
   "source": []
  }
 ],
 "metadata": {
  "kernelspec": {
   "display_name": "Python 3 (ipykernel)",
   "language": "python",
   "name": "python3"
  },
  "language_info": {
   "codemirror_mode": {
    "name": "ipython",
    "version": 3
   },
   "file_extension": ".py",
   "mimetype": "text/x-python",
   "name": "python",
   "nbconvert_exporter": "python",
   "pygments_lexer": "ipython3",
   "version": "3.8.10"
  }
 },
 "nbformat": 4,
 "nbformat_minor": 5
}
