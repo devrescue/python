{
 "cells": [
  {
   "cell_type": "code",
   "execution_count": 6,
   "id": "8cdeec04",
   "metadata": {},
   "outputs": [
    {
     "name": "stdout",
     "output_type": "stream",
     "text": [
      "     FirstName LastName\n"
     ]
    }
   ],
   "source": [
    "s = \"     FirstName     \"\n",
    "\n",
    "print(f\"{s.rstrip()} LastName\")"
   ]
  },
  {
   "cell_type": "code",
   "execution_count": 7,
   "id": "736d32d2",
   "metadata": {},
   "outputs": [
    {
     "name": "stdout",
     "output_type": "stream",
     "text": [
      "-----FirstName LastName\n"
     ]
    }
   ],
   "source": [
    "s = \"-----FirstName------\"\n",
    "\n",
    "print(f\"{s.rstrip('-')} LastName\")"
   ]
  },
  {
   "cell_type": "code",
   "execution_count": 8,
   "id": "eea73e84",
   "metadata": {},
   "outputs": [
    {
     "name": "stdout",
     "output_type": "stream",
     "text": [
      "FirstName      LastName\n"
     ]
    }
   ],
   "source": [
    "s = \"     FirstName     \"\n",
    "\n",
    "print(f\"{s.lstrip()} LastName\")"
   ]
  },
  {
   "cell_type": "code",
   "execution_count": 9,
   "id": "b198457e",
   "metadata": {},
   "outputs": [
    {
     "name": "stdout",
     "output_type": "stream",
     "text": [
      "FirstName______ LastName\n"
     ]
    }
   ],
   "source": [
    "s = \"______FirstName______\"\n",
    "\n",
    "print(f\"{s.lstrip('_')} LastName\")"
   ]
  },
  {
   "cell_type": "code",
   "execution_count": 10,
   "id": "e7f83572",
   "metadata": {},
   "outputs": [
    {
     "name": "stdout",
     "output_type": "stream",
     "text": [
      "FirstName LastName\n"
     ]
    }
   ],
   "source": [
    "s = \"______FirstName______\"\n",
    "\n",
    "print(f\"{s.lstrip('_').rstrip('_')} LastName\")"
   ]
  },
  {
   "cell_type": "code",
   "execution_count": null,
   "id": "4cadf8e9",
   "metadata": {},
   "outputs": [],
   "source": []
  }
 ],
 "metadata": {
  "kernelspec": {
   "display_name": "Python 3 (ipykernel)",
   "language": "python",
   "name": "python3"
  },
  "language_info": {
   "codemirror_mode": {
    "name": "ipython",
    "version": 3
   },
   "file_extension": ".py",
   "mimetype": "text/x-python",
   "name": "python",
   "nbconvert_exporter": "python",
   "pygments_lexer": "ipython3",
   "version": "3.8.10"
  }
 },
 "nbformat": 4,
 "nbformat_minor": 5
}
