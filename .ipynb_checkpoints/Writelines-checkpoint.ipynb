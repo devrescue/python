{
 "cells": [
  {
   "cell_type": "code",
   "execution_count": 12,
   "id": "cab79046",
   "metadata": {},
   "outputs": [],
   "source": [
    "f = open(\"file1.txt\", \"w\")\n",
    "f.writelines([\"---Line1---\", \"---Line2---\"])\n",
    "f.close()"
   ]
  },
  {
   "cell_type": "code",
   "execution_count": 13,
   "id": "26ad4c88",
   "metadata": {},
   "outputs": [
    {
     "name": "stdout",
     "output_type": "stream",
     "text": [
      "---Line1------Line2---\n"
     ]
    }
   ],
   "source": [
    "f = open(\"file1.txt\", \"r\")\n",
    "print(f.read())\n",
    "f.close()"
   ]
  },
  {
   "cell_type": "code",
   "execution_count": 14,
   "id": "90c52e27",
   "metadata": {},
   "outputs": [],
   "source": [
    "f = open(\"file1.txt\", \"w\")\n",
    "f.writelines([\"---Line1---\\n\", \"---Line2---\\n\"])\n",
    "f.close()"
   ]
  },
  {
   "cell_type": "code",
   "execution_count": 15,
   "id": "eee9584b",
   "metadata": {},
   "outputs": [
    {
     "name": "stdout",
     "output_type": "stream",
     "text": [
      "---Line1---\n",
      "---Line2---\n",
      "\n"
     ]
    }
   ],
   "source": [
    "f = open(\"file1.txt\", \"r\")\n",
    "print(f.read())\n",
    "f.close()"
   ]
  },
  {
   "cell_type": "code",
   "execution_count": 16,
   "id": "bf3eace4",
   "metadata": {},
   "outputs": [],
   "source": [
    "f = open(\"file1.txt\", \"a\")\n",
    "f.writelines([\"---Line3---\\n\", \"---Line4---\\n\"])\n",
    "f.close()"
   ]
  },
  {
   "cell_type": "code",
   "execution_count": 17,
   "id": "9dfc93bf",
   "metadata": {},
   "outputs": [
    {
     "name": "stdout",
     "output_type": "stream",
     "text": [
      "---Line1---\n",
      "---Line2---\n",
      "---Line3---\n",
      "---Line4---\n",
      "\n"
     ]
    }
   ],
   "source": [
    "f = open(\"file1.txt\", \"r\")\n",
    "print(f.read())\n",
    "f.close()"
   ]
  },
  {
   "cell_type": "code",
   "execution_count": 24,
   "id": "fb3e8ced",
   "metadata": {},
   "outputs": [],
   "source": [
    "lines = ['---NewLine---','---NewLine---','---NewLine---']\n",
    "with open('file2.txt', 'a') as f:\n",
    "    f.writelines(f\"{l}\\n\" for l in lines)"
   ]
  },
  {
   "cell_type": "code",
   "execution_count": 25,
   "id": "6551d77c",
   "metadata": {},
   "outputs": [
    {
     "name": "stdout",
     "output_type": "stream",
     "text": [
      "---NewLine---\n",
      "---NewLine---\n",
      "---NewLine---\n",
      "\n"
     ]
    }
   ],
   "source": [
    "f = open(\"file2.txt\", \"r\")\n",
    "print(f.read())\n",
    "f.close()"
   ]
  },
  {
   "cell_type": "code",
   "execution_count": 30,
   "id": "9c0d44eb",
   "metadata": {},
   "outputs": [
    {
     "name": "stdout",
     "output_type": "stream",
     "text": [
      "Line1\n",
      "Line2\n",
      "\n"
     ]
    }
   ],
   "source": [
    "import io\n",
    "\n",
    "output = io.StringIO()\n",
    "output.writelines(['Line1\\n','Line2\\n'])\n",
    "\n",
    "# Retrieve file contents -- this will be\n",
    "# 'First line.\\nSecond line.\\n'\n",
    "contents = output.getvalue()\n",
    "\n",
    "print(contents)\n",
    "\n",
    "# Close object and discard memory buffer --\n",
    "# .getvalue() will now raise an exception.\n",
    "output.close()"
   ]
  },
  {
   "cell_type": "code",
   "execution_count": null,
   "id": "ef9c0a11",
   "metadata": {},
   "outputs": [],
   "source": []
  }
 ],
 "metadata": {
  "kernelspec": {
   "display_name": "Python 3 (ipykernel)",
   "language": "python",
   "name": "python3"
  },
  "language_info": {
   "codemirror_mode": {
    "name": "ipython",
    "version": 3
   },
   "file_extension": ".py",
   "mimetype": "text/x-python",
   "name": "python",
   "nbconvert_exporter": "python",
   "pygments_lexer": "ipython3",
   "version": "3.8.10"
  }
 },
 "nbformat": 4,
 "nbformat_minor": 5
}
