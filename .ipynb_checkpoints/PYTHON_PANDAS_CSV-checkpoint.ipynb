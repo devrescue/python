{
 "cells": [
  {
   "cell_type": "code",
   "execution_count": 4,
   "id": "241085c3",
   "metadata": {},
   "outputs": [
    {
     "name": "stdout",
     "output_type": "stream",
     "text": [
      "        rank                         title studio  lifetime_gross  year\n",
      "0          1  Star Wars: The Force Awakens     BV       936662225  2015\n",
      "16541  16542                   Zyzzyx Road   Reg.              30  2006\n",
      "                                      title  lifetime_gross  year\n",
      "0              Star Wars: The Force Awakens       936662225  2015\n",
      "1                         Avengers: Endgame       857190335  2019\n",
      "2                                    Avatar       760507625  2009\n",
      "3                             Black Panther       700059566  2018\n",
      "4                    Avengers: Infinity War       678815482  2018\n",
      "...                                     ...             ...   ...\n",
      "16537                           Dog Eat Dog              80  2009\n",
      "16538                        Paranoid Girls              78  2015\n",
      "16539  Confession of a Child of the Century              74  2015\n",
      "16540                            Storage 24              72  2013\n",
      "16541                           Zyzzyx Road              30  2006\n",
      "\n",
      "[16542 rows x 3 columns]\n"
     ]
    }
   ],
   "source": [
    "# Import packages\n",
    "import os\n",
    "import pandas as pd #pip install pandas\n",
    "\n",
    "boxoffice = os.path.join(\"datasets\",\"boxoffice.csv\")\n",
    "\n",
    "df = pd.read_csv(boxoffice)\n",
    "\n",
    "#print(df.info())\n",
    "#print(df.head())\n",
    "#print(df.describe())\n",
    "#print(df[\"lifetime_gross\"].describe().apply(lambda x: format(x, 'f')))\n",
    "#print(df.tail())\n",
    "\n",
    "#print(df.iloc[:3])\n",
    "\n",
    "print(df.iloc[[0,16541]])\n",
    "print(df[[0]['title','lifetime_gross','year']])"
   ]
  },
  {
   "cell_type": "code",
   "execution_count": null,
   "id": "8115630d",
   "metadata": {},
   "outputs": [],
   "source": []
  }
 ],
 "metadata": {
  "kernelspec": {
   "display_name": "Python 3 (ipykernel)",
   "language": "python",
   "name": "python3"
  },
  "language_info": {
   "codemirror_mode": {
    "name": "ipython",
    "version": 3
   },
   "file_extension": ".py",
   "mimetype": "text/x-python",
   "name": "python",
   "nbconvert_exporter": "python",
   "pygments_lexer": "ipython3",
   "version": "3.8.10"
  }
 },
 "nbformat": 4,
 "nbformat_minor": 5
}
