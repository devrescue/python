{
 "cells": [
  {
   "cell_type": "code",
   "execution_count": 111,
   "id": "2791785d",
   "metadata": {},
   "outputs": [
    {
     "name": "stdout",
     "output_type": "stream",
     "text": [
      "[[5]\n",
      " [6]]\n",
      "[[1]\n",
      " [0]]\n"
     ]
    }
   ],
   "source": [
    "import numpy as np\n",
    "\n",
    "v = np.array([2,3])\n",
    "w = np.array([3,3])\n",
    "vw = v+w\n",
    "print(vw[:, np.newaxis])\n",
    "#Example 1 Output\n",
    "#[[5]\n",
    "# [6]]\n",
    "\n",
    "v = np.array([-2,-3])\n",
    "w = np.array([3,3])\n",
    "vw = v+w\n",
    "print(vw[:, np.newaxis])\n",
    "#Example 1 Output\n",
    "#[[1]\n",
    "# [0]]"
   ]
  },
  {
   "cell_type": "code",
   "execution_count": 114,
   "id": "55ec004e",
   "metadata": {},
   "outputs": [
    {
     "name": "stdout",
     "output_type": "stream",
     "text": [
      "[[-1]\n",
      " [ 0]]\n",
      "[[-5]\n",
      " [-6]]\n"
     ]
    }
   ],
   "source": [
    "import numpy as np\n",
    "\n",
    "v = np.array([2,3])\n",
    "w = np.array([3,3])\n",
    "vw = v-w\n",
    "print(vw[:, np.newaxis])\n",
    "#Example 3 Output\n",
    "#[[-1]\n",
    "# [0]]\n",
    "\n",
    "v = np.array([-2,-3])\n",
    "w = np.array([3,3])\n",
    "vw = v-w\n",
    "print(vw[:, np.newaxis])\n",
    "#Example 4 Output\n",
    "#[[-5]\n",
    "# [-6]]"
   ]
  },
  {
   "cell_type": "code",
   "execution_count": 122,
   "id": "1ffe83f4",
   "metadata": {},
   "outputs": [
    {
     "data": {
      "image/png": "[encoded data removed]",
      "text/plain": [
       "<Figure size 640x480 with 1 Axes>"
      ]
     },
     "metadata": {
      "needs_background": "light"
     },
     "output_type": "display_data"
    }
   ],
   "source": [
    "import numpy as np\n",
    "import matplotlib.pyplot as plt\n",
    "from matplotlib.pyplot import figure\n",
    "\n",
    "def plot_vector2d(vector2d, s, origin=[0, 0], **options):\n",
    "    plt.gca().annotate(f'{s}({vector2d[0]},{vector2d[1]})', (vector2d[0],vector2d[1]),fontsize=13)\n",
    "    plt.scatter(vector2d[0],vector2d[1], s=5,c='black')\n",
    "    return plt.arrow(origin[0], origin[1], vector2d[0], vector2d[1],\n",
    "          head_width=0.2, head_length=0.3, length_includes_head=True,\n",
    "          width=0.02, \n",
    "          **options)\n",
    "\n",
    "figure(figsize=(8, 6), dpi=80)\n",
    "v = np.array([4,2])\n",
    "w = np.array([-1,2])\n",
    "vw = v+w\n",
    "plot_vector2d(v,'v', color='black')  #v\n",
    "plot_vector2d(w,'w', color='black')  #w\n",
    "plot_vector2d(vw, 'v+w', color='b') #v+w\n",
    "\n",
    "vw = v-w\n",
    "plot_vector2d(vw, 'v-w', color='r') #v-w\n",
    "\n",
    "plt.axis([-5, 11, -2, 11])\n",
    "plt.grid()\n",
    "plt.gca().set_aspect(\"equal\")\n",
    "\n",
    "plt.show()"
   ]
  },
  {
   "cell_type": "code",
   "execution_count": null,
   "id": "5eacfaf3",
   "metadata": {},
   "outputs": [],
   "source": []
  }
 ],
 "metadata": {
  "kernelspec": {
   "display_name": "Python 3 (ipykernel)",
   "language": "python",
   "name": "python3"
  },
  "language_info": {
   "codemirror_mode": {
    "name": "ipython",
    "version": 3
   },
   "file_extension": ".py",
   "mimetype": "text/x-python",
   "name": "python",
   "nbconvert_exporter": "python",
   "pygments_lexer": "ipython3",
   "version": "3.8.10"
  }
 },
 "nbformat": 4,
 "nbformat_minor": 5
}
