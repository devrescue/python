{
 "cells": [
  {
   "cell_type": "code",
   "execution_count": 41,
   "id": "0b32b385",
   "metadata": {},
   "outputs": [
    {
     "name": "stdout",
     "output_type": "stream",
     "text": [
      "             FirstName LastName\n"
     ]
    }
   ],
   "source": [
    "s = \"             FirstName         \"\n",
    "\n",
    "print(f\"{s.rstrip()} LastName\")"
   ]
  },
  {
   "cell_type": "code",
   "execution_count": 38,
   "id": "2803229d",
   "metadata": {},
   "outputs": [
    {
     "name": "stdout",
     "output_type": "stream",
     "text": [
      "-----FirstName LastName\n"
     ]
    }
   ],
   "source": [
    "s = \"-----FirstName------\"\n",
    "\n",
    "print(f\"{s.rstrip('-')} LastName\")"
   ]
  },
  {
   "cell_type": "code",
   "execution_count": 8,
   "id": "e221e971",
   "metadata": {},
   "outputs": [
    {
     "name": "stdout",
     "output_type": "stream",
     "text": [
      "FirstName      LastName\n"
     ]
    }
   ],
   "source": [
    "s = \"     FirstName     \"\n",
    "\n",
    "print(f\"{s.lstrip()} LastName\")"
   ]
  },
  {
   "cell_type": "code",
   "execution_count": 9,
   "id": "7480b6ce",
   "metadata": {},
   "outputs": [
    {
     "name": "stdout",
     "output_type": "stream",
     "text": [
      "FirstName______ LastName\n"
     ]
    }
   ],
   "source": [
    "s = \"______FirstName______\"\n",
    "\n",
    "print(f\"{s.lstrip('_')} LastName\")"
   ]
  },
  {
   "cell_type": "code",
   "execution_count": 10,
   "id": "af58b8d7",
   "metadata": {},
   "outputs": [
    {
     "name": "stdout",
     "output_type": "stream",
     "text": [
      "FirstName LastName\n"
     ]
    }
   ],
   "source": [
    "s = \"______FirstName______\"\n",
    "\n",
    "print(f\"{s.lstrip('_').rstrip('_')} LastName\")"
   ]
  },
  {
   "cell_type": "code",
   "execution_count": 11,
   "id": "b4566f4e",
   "metadata": {},
   "outputs": [
    {
     "name": "stdout",
     "output_type": "stream",
     "text": [
      "FirstName LastName\n"
     ]
    }
   ],
   "source": [
    "s = \"______FirstName______\"\n",
    "\n",
    "print(f\"{s.strip('_')} LastName\")"
   ]
  },
  {
   "cell_type": "code",
   "execution_count": 12,
   "id": "9bd09f74",
   "metadata": {},
   "outputs": [
    {
     "name": "stdout",
     "output_type": "stream",
     "text": [
      "FirstName LastName\n"
     ]
    }
   ],
   "source": [
    "s = \"      FirstName      \"\n",
    "\n",
    "print(f\"{s.strip()} LastName\")"
   ]
  },
  {
   "cell_type": "code",
   "execution_count": null,
   "id": "7444ef2e",
   "metadata": {},
   "outputs": [],
   "source": [
    "s = \"      FirstName      \"\n",
    "\n",
    "print(f\"{s.strip()} LastName\")"
   ]
  },
  {
   "cell_type": "code",
   "execution_count": 42,
   "id": "2f309f6d",
   "metadata": {},
   "outputs": [
    {
     "name": "stdout",
     "output_type": "stream",
     "text": [
      "<<<<<<<<       FirstName LastName\n"
     ]
    }
   ],
   "source": [
    "s = \"<<<<<<<<       FirstName         >>>>>>\"\n",
    "\n",
    "print(f\"{s.rstrip('<> ')} LastName\")"
   ]
  },
  {
   "cell_type": "code",
   "execution_count": 43,
   "id": "7d1219fd",
   "metadata": {},
   "outputs": [
    {
     "name": "stdout",
     "output_type": "stream",
     "text": [
      "FirstName LastName\n"
     ]
    }
   ],
   "source": [
    "s = \"<<<<<<<<       FirstName         >>>>>>\"\n",
    "print(f\"{s.strip('<> ')} LastName\")"
   ]
  }
 ],
 "metadata": {
  "kernelspec": {
   "display_name": "Python 3 (ipykernel)",
   "language": "python",
   "name": "python3"
  },
  "language_info": {
   "codemirror_mode": {
    "name": "ipython",
    "version": 3
   },
   "file_extension": ".py",
   "mimetype": "text/x-python",
   "name": "python",
   "nbconvert_exporter": "python",
   "pygments_lexer": "ipython3",
   "version": "3.8.10"
  }
 },
 "nbformat": 4,
 "nbformat_minor": 5
}
