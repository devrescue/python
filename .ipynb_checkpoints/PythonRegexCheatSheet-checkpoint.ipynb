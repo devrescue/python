{
 "cells": [
  {
   "cell_type": "code",
   "execution_count": 13,
   "id": "24855ee3",
   "metadata": {},
   "outputs": [
    {
     "name": "stdout",
     "output_type": "stream",
     "text": [
      "['quie', 'quit', 'quee', 'quee', 'ques', 'quit', 'quie']\n",
      "['quit', 'quit']\n"
     ]
    }
   ],
   "source": [
    "#Example 1 A - words in a string that match a pattern\n",
    "import re\n",
    "sstring = \"quiet quit queer queen question quits disquiet\" \n",
    "hits = re.findall(\"q...\", sstring)\n",
    "print(hits)\n",
    "#Output\n",
    "#['quie', 'quit', 'quee', 'ques', 'quit', 'quie']\n",
    "\n",
    "hits = re.findall(\"q..t\", sstring)\n",
    "print(hits)\n",
    "#Output\n",
    "#['quit', 'quit']"
   ]
  },
  {
   "cell_type": "code",
   "execution_count": 17,
   "id": "48151b6c",
   "metadata": {},
   "outputs": [
    {
     "name": "stdout",
     "output_type": "stream",
     "text": [
      "['<p>\\nThis tutorial is provided by CodeSpeedy.\\nHope you like this.\\n</p>']\n"
     ]
    }
   ],
   "source": [
    "#Example 1 B\n",
    "import re\n",
    "txt = '''<!DOCTYPE html>\n",
    "<html>\n",
    "<head>\n",
    "<title>Title of the document</title>\n",
    "</head>\n",
    "<p>\n",
    "This tutorial is provided by CodeSpeedy.\n",
    "Hope you like this.\n",
    "</p>\n",
    "</html>'''\n",
    "x = re.findall(\"<p>.*</p>\", txt,re.DOTALL)\n",
    "print(x)"
   ]
  },
  {
   "cell_type": "code",
   "execution_count": 41,
   "id": "d28fed8c",
   "metadata": {},
   "outputs": [
    {
     "name": "stdout",
     "output_type": "stream",
     "text": [
      "<re.Match object; span=(0, 1), match='i'> at 0\n",
      "None at 1\n",
      "None at 2\n",
      "<re.Match object; span=(0, 1), match='i'> at 3\n",
      "<re.Match object; span=(0, 1), match='i'> at 0\n",
      "<re.Match object; span=(0, 1), match='I'> at 1\n",
      "None at 2\n",
      "<re.Match object; span=(0, 1), match='i'> at 3\n"
     ]
    }
   ],
   "source": [
    "#Example 2 - Search for all strings that start with letter i\n",
    "import re\n",
    "sstring = ['ill','Illumination','porter','inn']\n",
    "\n",
    "for s in sstring:\n",
    "    print(str(re.search(r\"^i\",i))+\" at \"+str(sstring.index(i))) #case sensitive\n",
    "    \n",
    "for s in sstring:\n",
    "    print(str(re.search(r\"^i\",i,re.IGNORECASE))+\" at \"+str(sstring.index(i))) #case insensitive"
   ]
  },
  {
   "cell_type": "code",
   "execution_count": 53,
   "id": "810b97f9",
   "metadata": {},
   "outputs": [
    {
     "name": "stdout",
     "output_type": "stream",
     "text": [
      "<re.Match object; span=(0, 3), match='jam'> at 0\n",
      "<re.Match object; span=(0, 3), match='Jam'> at 1\n",
      "<re.Match object; span=(0, 2), match='jm'> at 2\n",
      "None at 3\n",
      "None at 4\n",
      "<re.Match object; span=(0, 7), match='jaaaaam'> at 5\n",
      "None at 6\n"
     ]
    }
   ],
   "source": [
    "#Example 3 - 0 or more occurances of pattern to the left of *\n",
    "import re\n",
    "sstring = ['jamaica','Jamaica','jmaica','j','maica','jaaaaamaica','jaimica']\n",
    "\n",
    "for s in sstring:\n",
    "    print(str(re.search('ja*m',s,re.IGNORECASE))+\" at \"+str(sstring.index(s))) #case sensitive"
   ]
  },
  {
   "cell_type": "code",
   "execution_count": 64,
   "id": "b29b48cf",
   "metadata": {},
   "outputs": [
    {
     "name": "stdout",
     "output_type": "stream",
     "text": [
      "<re.Match object; span=(3, 6), match='ing'> at 0\n",
      "<re.Match object; span=(4, 7), match='ing'> at 1\n",
      "<re.Match object; span=(2, 5), match='ing'> at 2\n",
      "None at 3\n",
      "<re.Match object; span=(0, 3), match='ing'> at 4\n"
     ]
    }
   ],
   "source": [
    "#Example 4 \n",
    "import re\n",
    "sstring = ['acting','walking','fling','action','ing']\n",
    "\n",
    "for s in sstring:\n",
    "    print(str(re.search('ing$',s,re.IGNORECASE))+\" at \"+str(sstring.index(s))) #case sensitive\n",
    "    "
   ]
  },
  {
   "cell_type": "code",
   "execution_count": 68,
   "id": "2107db8e",
   "metadata": {},
   "outputs": [
    {
     "name": "stdout",
     "output_type": "stream",
     "text": [
      "None at 0\n",
      "<re.Match object; span=(0, 2), match='wa'> at 1\n",
      "<re.Match object; span=(0, 2), match='wa'> at 2\n",
      "<re.Match object; span=(0, 2), match='Wa'> at 3\n",
      "None at 4\n"
     ]
    }
   ],
   "source": [
    "#Example 5 \n",
    "import re\n",
    "sstring = ['w','walk','wash','Way','wiiiin']\n",
    "\n",
    "for s in sstring:\n",
    "    print(str(re.search('wa+',s,re.IGNORECASE))+\" at \"+str(sstring.index(s))) #case sensitive\n"
   ]
  },
  {
   "cell_type": "code",
   "execution_count": 82,
   "id": "9ff8edb7",
   "metadata": {},
   "outputs": [
    {
     "name": "stdout",
     "output_type": "stream",
     "text": [
      "<re.Match object; span=(0, 3), match='Dri'> at 0\n",
      "<re.Match object; span=(0, 3), match='dri'> at 1\n",
      "<re.Match object; span=(0, 2), match='dr'> at 2\n",
      "<re.Match object; span=(0, 3), match='dri'> at 3\n",
      "None at 4\n"
     ]
    }
   ],
   "source": [
    "#Example 6 \n",
    "import re\n",
    "sstring = ['Drink','driiiink','dress','drive','debt']\n",
    "\n",
    "for s in sstring:\n",
    "    print(str(re.search('dri?',s,re.IGNORECASE))+\" at \"+str(sstring.index(s))) #case sensitive"
   ]
  },
  {
   "cell_type": "code",
   "execution_count": 133,
   "id": "a9d7cb77",
   "metadata": {},
   "outputs": [
    {
     "name": "stdout",
     "output_type": "stream",
     "text": [
      "<re.Match object; span=(0, 27), match='[aleph] [] [bet] [gimel] []'>\n",
      "<re.Match object; span=(0, 7), match='[aleph]'>\n",
      "<re.Match object; span=(0, 27), match='[aleph] [] [bet] [gimel] []'>\n",
      "<re.Match object; span=(0, 7), match='[aleph]'>\n",
      "<re.Match object; span=(0, 2), match='ab'>\n",
      "<re.Match object; span=(0, 1), match='a'>\n"
     ]
    }
   ],
   "source": [
    "#Example 7\n",
    "import re\n",
    "sstring = '[aleph] [] [bet] [gimel] []' \n",
    "\n",
    "print(re.search('\\[.*\\]',sstring)) # *? 0 or more repetitions greedy\n",
    "print(re.search('\\[.*?\\]',sstring)) # *? 0 or more repetitions non-greedy\n",
    "\n",
    "print(re.search('\\[.+\\]',sstring)) # +? 1 or more repetitions greedy\n",
    "print(re.search('\\[.+?\\]',sstring)) # +? 1 or more repetitions non-greedy\n",
    "\n",
    "sstring = 'abbbb'\n",
    "print(re.search('ab?',sstring ))\n",
    "print(re.search('ab??',sstring )) # ?? 0 or 1 repetitions non-greedy\n"
   ]
  },
  {
   "cell_type": "code",
   "execution_count": null,
   "id": "30427fdc",
   "metadata": {},
   "outputs": [],
   "source": [
    ">>> print(re.search('x-{3}x', 'x--x'))                # Two dashes\n",
    "None\n",
    "\n",
    ">>> re.search('x-{3}x', 'x---x')                      # Three dashes\n",
    "<_sre.SRE_Match object; span=(0, 5), match='x---x'>\n",
    "\n",
    ">>> print(re.search('x-{3}x', 'x----x'))              # Four dashes\n",
    "None"
   ]
  }
 ],
 "metadata": {
  "kernelspec": {
   "display_name": "Python 3 (ipykernel)",
   "language": "python",
   "name": "python3"
  },
  "language_info": {
   "codemirror_mode": {
    "name": "ipython",
    "version": 3
   },
   "file_extension": ".py",
   "mimetype": "text/x-python",
   "name": "python",
   "nbconvert_exporter": "python",
   "pygments_lexer": "ipython3",
   "version": "3.8.10"
  }
 },
 "nbformat": 4,
 "nbformat_minor": 5
}
