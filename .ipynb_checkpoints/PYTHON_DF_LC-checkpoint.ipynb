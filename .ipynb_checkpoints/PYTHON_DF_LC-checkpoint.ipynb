{
 "cells": [
  {
   "cell_type": "code",
   "execution_count": 2,
   "id": "1dd04edc",
   "metadata": {},
   "outputs": [
    {
     "name": "stdout",
     "output_type": "stream",
     "text": [
      "            TOP10\n",
      "0   United States\n",
      "1           China\n",
      "2           Japan\n",
      "3         Germany\n",
      "4           India\n",
      "5  United Kingdom\n",
      "6          France\n",
      "7           Italy\n",
      "8          Brazil\n",
      "9          Canada\n"
     ]
    }
   ],
   "source": [
    "import pandas as pd\n",
    "from numerize import numerize\n",
    "\n",
    "data = {'TOP10': ['United States','China','Japan','Germany','India','United Kingdom','France','Italy','Brazil','Canada']}\n",
    "df = pd.DataFrame(data)\n",
    "\n",
    "print(df)"
   ]
  },
  {
   "cell_type": "code",
   "execution_count": 3,
   "id": "942a7f3b",
   "metadata": {},
   "outputs": [
    {
     "name": "stdout",
     "output_type": "stream",
     "text": [
      "['UNITED STATES', 'CHINA', 'JAPAN', 'GERMANY', 'INDIA', 'UNITED KINGDOM', 'FRANCE', 'ITALY', 'BRAZIL', 'CANADA']\n"
     ]
    }
   ],
   "source": [
    "upperCaseNames = [x.upper() for x in df[\"TOP10\"]]\n",
    "print(upperCaseNames)"
   ]
  },
  {
   "cell_type": "code",
   "execution_count": 4,
   "id": "3b973986",
   "metadata": {},
   "outputs": [
    {
     "name": "stdout",
     "output_type": "stream",
     "text": [
      "[('UNITED STATES', 'SETATS DETINU'), ('CHINA', 'ANIHC'), ('JAPAN', 'NAPAJ'), ('GERMANY', 'YNAMREG'), ('INDIA', 'AIDNI'), ('UNITED KINGDOM', 'MODGNIK DETINU'), ('FRANCE', 'ECNARF'), ('ITALY', 'YLATI'), ('BRAZIL', 'LIZARB'), ('CANADA', 'ADANAC')]\n"
     ]
    }
   ],
   "source": [
    "forwardAndReverse = [(x.upper(),x.upper()[::-1]) for x in df[\"TOP10\"]]\n",
    "print(forwardAndReverse)"
   ]
  },
  {
   "cell_type": "code",
   "execution_count": 5,
   "id": "80e741aa",
   "metadata": {},
   "outputs": [
    {
     "name": "stdout",
     "output_type": "stream",
     "text": [
      "      Country Name  GDP 2021 Est. Trillions\n",
      "1    United States           22675271000000\n",
      "2            China           16642318000000\n",
      "3            Japan            5378136000000\n",
      "4          Germany            4319286000000\n",
      "5            India            3124650000000\n",
      "6   United Kingdom            3049704000000\n",
      "7           France            2938271000000\n",
      "8            Italy            2106287000000\n",
      "9           Brazil            1883487000000\n",
      "10          Canada            1806707000000\n"
     ]
    }
   ],
   "source": [
    "\n",
    "data = {'Country Name': ['United States','China','Japan','Germany','India','United Kingdom','France','Italy','Brazil','Canada'],\n",
    "        'GDP 2021 Est. Trillions':[22675271000000,16642318000000,5378136000000,4319286000000,3124650000000,3049704000000,2938271000000,2106287000000,1883487000000,1806707000000]}\n",
    "df = pd.DataFrame(data, index = [1,2,3,4,5,6,7,8,9,10])\n",
    "print(df)\n"
   ]
  },
  {
   "cell_type": "code",
   "execution_count": 6,
   "id": "ec040919",
   "metadata": {},
   "outputs": [
    {
     "name": "stdout",
     "output_type": "stream",
     "text": [
      "      Country Name  GDP 2021 Est. Trillions\n",
      "1    UNITED STATES           22675271000000\n",
      "2            CHINA           16642318000000\n",
      "3            JAPAN            5378136000000\n",
      "4          GERMANY            4319286000000\n",
      "5            INDIA            3124650000000\n",
      "6   UNITED KINGDOM            3049704000000\n",
      "7           FRANCE            2938271000000\n",
      "8            ITALY            2106287000000\n",
      "9           BRAZIL            1883487000000\n",
      "10          CANADA            1806707000000\n"
     ]
    }
   ],
   "source": [
    "df[\"Country Name\"] = [x.upper() for x in df[\"Country Name\"]]\n",
    "print(df)"
   ]
  },
  {
   "cell_type": "code",
   "execution_count": 7,
   "id": "9ff7a9ab",
   "metadata": {},
   "outputs": [
    {
     "name": "stdout",
     "output_type": "stream",
     "text": [
      "      Country Name GDP 2021 Est. Trillions\n",
      "1    UNITED STATES                  22.68T\n",
      "2            CHINA                  16.64T\n",
      "3            JAPAN                   5.38T\n",
      "4          GERMANY                   4.32T\n",
      "5            INDIA                   3.12T\n",
      "6   UNITED KINGDOM                   3.05T\n",
      "7           FRANCE                   2.94T\n",
      "8            ITALY                   2.11T\n",
      "9           BRAZIL                   1.88T\n",
      "10          CANADA                   1.81T\n"
     ]
    }
   ],
   "source": [
    "df[\"GDP 2021 Est. Trillions\"] = [ numerize.numerize(x) for x in df[\"GDP 2021 Est. Trillions\"]]\n",
    "print(df)"
   ]
  },
  {
   "cell_type": "code",
   "execution_count": null,
   "id": "cae9714c",
   "metadata": {},
   "outputs": [],
   "source": []
  }
 ],
 "metadata": {
  "kernelspec": {
   "display_name": "Python 3 (ipykernel)",
   "language": "python",
   "name": "python3"
  },
  "language_info": {
   "codemirror_mode": {
    "name": "ipython",
    "version": 3
   },
   "file_extension": ".py",
   "mimetype": "text/x-python",
   "name": "python",
   "nbconvert_exporter": "python",
   "pygments_lexer": "ipython3",
   "version": "3.8.10"
  }
 },
 "nbformat": 4,
 "nbformat_minor": 5
}
