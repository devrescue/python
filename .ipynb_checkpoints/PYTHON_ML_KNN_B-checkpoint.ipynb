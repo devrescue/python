{
 "cells": [
  {
   "cell_type": "code",
   "execution_count": 1,
   "id": "2fb8a514",
   "metadata": {},
   "outputs": [
    {
     "name": "stdout",
     "output_type": "stream",
     "text": [
      "0.75\n"
     ]
    }
   ],
   "source": [
    "# Import necessary modules\n",
    "from sklearn.neighbors import KNeighborsClassifier\n",
    "from sklearn.model_selection import train_test_split\n",
    "import requests\n",
    "import pandas as pd \n",
    "import io\n",
    "\n",
    "url = 'https://raw.githubusercontent.com/devrescue/python/main/datasets/SPECTF.csv'\n",
    "\n",
    "s = requests.get(url).content\n",
    "\n",
    "df = pd.read_csv(io.StringIO(s.decode('utf-8')))\n",
    "\n",
    "#labels y\n",
    "y = df['OVERALL_DIAGNOSIS'].values \n",
    "\n",
    "#features X\n",
    "X = df.drop('OVERALL_DIAGNOSIS', axis=1).values \n",
    "\n",
    "# Split into training and test set\n",
    "X_train, X_test, y_train, y_test = train_test_split(X, y, test_size = 0.4, random_state=42, stratify=y)\n",
    "\n",
    "# Create a k-NN classifier with 7 neighbors: knn\n",
    "knn = KNeighborsClassifier(n_neighbors=7)\n",
    "\n",
    "# Fit the classifier to the training data\n",
    "knn.fit(X_train,y_train)\n",
    "\n",
    "# Print the accuracy\n",
    "print(knn.score(X_test, y_test))"
   ]
  }
 ],
 "metadata": {
  "kernelspec": {
   "display_name": "Python 3 (ipykernel)",
   "language": "python",
   "name": "python3"
  },
  "language_info": {
   "codemirror_mode": {
    "name": "ipython",
    "version": 3
   },
   "file_extension": ".py",
   "mimetype": "text/x-python",
   "name": "python",
   "nbconvert_exporter": "python",
   "pygments_lexer": "ipython3",
   "version": "3.8.10"
  }
 },
 "nbformat": 4,
 "nbformat_minor": 5
}
